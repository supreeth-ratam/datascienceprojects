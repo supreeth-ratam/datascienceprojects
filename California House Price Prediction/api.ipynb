{
 "cells": [
  {
   "cell_type": "code",
   "execution_count": 1,
   "id": "525220c1",
   "metadata": {},
   "outputs": [],
   "source": [
    "import joblib"
   ]
  },
  {
   "cell_type": "code",
   "execution_count": 2,
   "id": "741f4907",
   "metadata": {},
   "outputs": [],
   "source": [
    "price_predictor = joblib.load('joblib.pkl')"
   ]
  },
  {
   "cell_type": "code",
   "execution_count": 3,
   "id": "a886e0b2",
   "metadata": {},
   "outputs": [],
   "source": [
    "import numpy as np"
   ]
  },
  {
   "cell_type": "code",
   "execution_count": 4,
   "id": "e3c6a074",
   "metadata": {},
   "outputs": [],
   "source": [
    "alist = [8.301400,21.000000,6.238137,0.971880,2401.000000,2.109842,37.860000,-122.220000]\n",
    "alist = np.asarray(alist)"
   ]
  },
  {
   "cell_type": "code",
   "execution_count": 5,
   "id": "e5880cc0",
   "metadata": {},
   "outputs": [],
   "source": [
    "alist = alist.reshape(1,-1)"
   ]
  },
  {
   "cell_type": "code",
   "execution_count": 6,
   "id": "45cea1a3",
   "metadata": {},
   "outputs": [],
   "source": [
    "hu = price_predictor.predict(alist)"
   ]
  },
  {
   "cell_type": "code",
   "execution_count": 7,
   "id": "27582264",
   "metadata": {},
   "outputs": [
    {
     "data": {
      "text/plain": [
       "numpy.ndarray"
      ]
     },
     "execution_count": 7,
     "metadata": {},
     "output_type": "execute_result"
    }
   ],
   "source": [
    "type(hu)"
   ]
  },
  {
   "cell_type": "code",
   "execution_count": 8,
   "id": "d7759580",
   "metadata": {},
   "outputs": [],
   "source": [
    "d = dict(enumerate(hu.flatten(), 1))"
   ]
  },
  {
   "cell_type": "code",
   "execution_count": 9,
   "id": "28b9dd9d",
   "metadata": {},
   "outputs": [
    {
     "data": {
      "text/plain": [
       "4.2409773"
      ]
     },
     "execution_count": 9,
     "metadata": {},
     "output_type": "execute_result"
    }
   ],
   "source": [
    "d[1]"
   ]
  },
  {
   "cell_type": "code",
   "execution_count": 10,
   "id": "75be3031",
   "metadata": {},
   "outputs": [],
   "source": [
    "from fastapi import FastAPI\n",
    "from pydantic import BaseModel\n",
    "import json\n",
    "import uvicorn\n",
    "from pyngrok import ngrok\n",
    "from fastapi.middleware.cors import CORSMiddleware\n",
    "import nest_asyncio"
   ]
  },
  {
   "cell_type": "code",
   "execution_count": 11,
   "id": "6e1261d9",
   "metadata": {},
   "outputs": [],
   "source": [
    "app = FastAPI()"
   ]
  },
  {
   "cell_type": "code",
   "execution_count": 12,
   "id": "de54b4e4",
   "metadata": {},
   "outputs": [],
   "source": [
    "origins = [\"*\"]\n",
    "\n",
    "app.add_middleware(\n",
    "    CORSMiddleware,\n",
    "    allow_origins=origins,\n",
    "    allow_credentials=True,\n",
    "    allow_methods=[\"*\"],\n",
    "    allow_headers=[\"*\"],\n",
    ")"
   ]
  },
  {
   "cell_type": "code",
   "execution_count": 13,
   "id": "e26dc92d",
   "metadata": {},
   "outputs": [],
   "source": [
    "class model_input(BaseModel):\n",
    "    MedInc : float\n",
    "    HouseAge : float\n",
    "    AveRooms : float\n",
    "    AveBedrms : float\n",
    "    Population : float\n",
    "    AveOccup : float\n",
    "    Latitude: float\n",
    "    Longitude: float"
   ]
  },
  {
   "cell_type": "code",
   "execution_count": 14,
   "id": "19bee86a",
   "metadata": {},
   "outputs": [],
   "source": [
    "@app.get('/ssss')\n",
    "def welcome_msg():\n",
    "    return {'value': \"supre\"}"
   ]
  },
  {
   "cell_type": "code",
   "execution_count": 15,
   "id": "0b202245",
   "metadata": {},
   "outputs": [],
   "source": [
    "@app.post('/priceprediction')\n",
    "def price_pred(input_parameters:model_input):\n",
    "    input_data = input_parameters.json()\n",
    "    input_dict = json.loads(input_data)\n",
    "\n",
    "    income = input_dict['MedInc']\n",
    "    age = input_dict['HouseAge']\n",
    "    avgrooms = input_dict['AveRooms']\n",
    "    bedrooms = input_dict['AveBedrms']\n",
    "    popl = input_dict['Population']\n",
    "    occp = input_dict['AveOccup']\n",
    "    lat = input_dict['Latitude']\n",
    "    longt = input_dict['Longitude']\n",
    "\n",
    "    input_list = np.asarray([income,age,avgrooms,bedrooms,popl,occp,lat,longt]).reshape(1,-1)\n",
    "\n",
    "    prediction = price_predictor.predict(input_list)\n",
    "    print(type(prediction))\n",
    "    \n",
    "\n",
    "    return {'prediction':float(prediction)}"
   ]
  },
  {
   "cell_type": "code",
   "execution_count": null,
   "id": "67a0e620",
   "metadata": {},
   "outputs": [
    {
     "name": "stderr",
     "output_type": "stream",
     "text": [
      "INFO:     Started server process [12840]\n",
      "INFO:     Waiting for application startup.\n",
      "INFO:     Application startup complete.\n",
      "INFO:     Uvicorn running on http://127.0.0.1:8000 (Press CTRL+C to quit)\n"
     ]
    },
    {
     "name": "stdout",
     "output_type": "stream",
     "text": [
      "<class 'numpy.ndarray'>\n",
      "INFO:     127.0.0.1:54454 - \"POST /priceprediction HTTP/1.1\" 200 OK\n",
      "INFO:     127.0.0.1:54545 - \"OPTIONS /priceprediction HTTP/1.1\" 200 OK\n",
      "<class 'numpy.ndarray'>\n",
      "INFO:     127.0.0.1:54545 - \"POST /priceprediction HTTP/1.1\" 200 OK\n"
     ]
    }
   ],
   "source": [
    "# ngrok_tunnel = ngrok.connect(8000)\n",
    "# print('Public URL:', ngrok_tunnel.public_url)\n",
    "nest_asyncio.apply()\n",
    "uvicorn.run(app, port=8000)"
   ]
  },
  {
   "cell_type": "code",
   "execution_count": null,
   "id": "cf69e4fa",
   "metadata": {},
   "outputs": [],
   "source": []
  }
 ],
 "metadata": {
  "kernelspec": {
   "display_name": "Python 3 (ipykernel)",
   "language": "python",
   "name": "python3"
  },
  "language_info": {
   "codemirror_mode": {
    "name": "ipython",
    "version": 3
   },
   "file_extension": ".py",
   "mimetype": "text/x-python",
   "name": "python",
   "nbconvert_exporter": "python",
   "pygments_lexer": "ipython3",
   "version": "3.9.6"
  }
 },
 "nbformat": 4,
 "nbformat_minor": 5
}
